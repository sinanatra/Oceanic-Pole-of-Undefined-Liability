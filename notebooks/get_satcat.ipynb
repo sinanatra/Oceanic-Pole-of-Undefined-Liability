{
 "cells": [
  {
   "cell_type": "markdown",
   "metadata": {},
   "source": [
    "## Imports SatCat"
   ]
  },
  {
   "cell_type": "code",
   "execution_count": null,
   "metadata": {},
   "outputs": [],
   "source": [
    "from spacetrack import SpaceTrackClient\n",
    "st = SpaceTrackClient('hello@giacomonanni.info', '8pKSdTg39NJhqWU')"
   ]
  },
  {
   "cell_type": "markdown",
   "metadata": {},
   "source": [
    "### Imports Google Sheet"
   ]
  },
  {
   "cell_type": "code",
   "execution_count": null,
   "metadata": {},
   "outputs": [],
   "source": [
    "import gspread\n",
    "from google.oauth2.service_account import Credentials\n",
    "scope = ['https://spreadsheets.google.com/feeds',\n",
    "         'https://www.googleapis.com/auth/drive']\n",
    "credentials = Credentials.from_service_account_file('./sheet-274815-b5805997d72c.json', scopes=scope)\n",
    "gc = gspread.authorize(credentials)\n",
    "sh = gc.open_by_url('https://docs.google.com/spreadsheets/d/1c1pb33-vHChTvljf46nFVDk-VE_R8p_46HBivIrwR_c/edit?usp=sharing')\n",
    "worksheet_list = sh.worksheets()\n",
    "print(worksheet_list)\n",
    "sheet = worksheet_list[0]"
   ]
  },
  {
   "cell_type": "code",
   "execution_count": null,
   "metadata": {},
   "outputs": [],
   "source": [
    "import urllib.request\n",
    "import codecs\n",
    "import time\n",
    "\n",
    "satcat = \"https://celestrak.com/pub/satcat.txt\"\n",
    "sat_catalogue = urllib.request.urlopen(satcat).read().decode('utf-8').strip().split(\"\\n\")\n",
    "sat_dict = {x.split()[1]:x for x in sat_catalogue}\n",
    "\n",
    "rows = sheet.row_count\n",
    "print(rows)\n",
    "\n",
    "sheetValues = sheet.get_all_values()\n",
    "tle_dict = {x[2]:x for x in sheetValues}\n",
    "\n",
    "for key in sat_dict.keys():    \n",
    "    \n",
    "    IsParsed = False\n",
    "    \n",
    "    if str('n_' + key) not in tle_dict:\n",
    "        try:\n",
    "            if \"-\" in sat_dict[key][75:85] and \"N/A\" not in sat_dict[key][119:127]:\n",
    "                lines = st.tle_latest(norad_cat_id=[key], format='tle')\n",
    "                lines = lines.split(\"\\n\")\n",
    "\n",
    "                for line1, line2 in zip(*[iter(lines[-3:-1])]*2):\n",
    "                    \n",
    "                    updateLine = [str(line1), str(line2) ,str('n_' + key)]\n",
    "                    print(updateLine)\n",
    "                    #sheet.append_row(updateLine)\n",
    "                    \n",
    "                    # Limit the Api request \n",
    "                    time.sleep(20)\n",
    "\n",
    "            else:\n",
    "                continue\n",
    "\n",
    "        except Exception as E:\n",
    "            print(E)\n",
    "            "
   ]
  },
  {
   "cell_type": "markdown",
   "metadata": {},
   "source": [
    "### Converts TLE to Lat Lon"
   ]
  },
  {
   "cell_type": "code",
   "execution_count": null,
   "metadata": {},
   "outputs": [],
   "source": [
    "print(sheetValues[3920])"
   ]
  },
  {
   "cell_type": "code",
   "execution_count": null,
   "metadata": {},
   "outputs": [],
   "source": [
    "rows = sheet.row_count\n",
    "print(rows)"
   ]
  },
  {
   "cell_type": "code",
   "execution_count": null,
   "metadata": {},
   "outputs": [],
   "source": [
    "import time, codecs\n",
    "import ephem\n",
    "from ephem import degree\n",
    "import datetime\n",
    "from datetime import timedelta\n",
    "\n",
    "output_file = codecs.open(\"output/dataset.tsv\",\"w\",\"utf-8\")\n",
    "output_file.write(\"tle_0\"+\"\\t\"+\"tle_1\"+\"\\t\"+\"lat\" + \"\\t\" + \"lon\" +\"\\t\"+\"norad_cat_num\"+\"\\t\"+\"satellite_name\"+\"\\t\"+\"ownership\"+\"\\t\"+\"launch_date\"+\"\\t\"+\"satellite_decay\"+\"\\t\"+\"satellite_decay_hour\"+\"\\t\"+\"rcs\"+\"\\n\")\n",
    "\n",
    "# Load the Space Catalogue as a dictionary\n",
    "satcat = \"https://celestrak.com/pub/satcat.txt\"\n",
    "sat_catalogue = urllib.request.urlopen(satcat).read().decode('utf-8').strip().split(\"\\n\")\n",
    "sat_dict = {x.split()[1]:x for x in sat_catalogue}\n",
    "\n",
    "print(\"Starting...\")\n",
    "\n",
    "rows = sheet.row_count\n",
    "print(rows)\n",
    "sheetValues = sheet.get_all_values()\n",
    "\n",
    "for i in range(2, rows):\n",
    "    \n",
    "    # Read lines from TLE file\n",
    "    row = sheetValues[i]\n",
    "    tle_line0 = row[0]\n",
    "    tle_line1 = row[1]\n",
    "    norad_id  = row[2].replace('n_','')\n",
    "    possible_satellite_reentry_date = sat_dict[norad_id][75:85] + \" \" +  \"00:00:00\"\n",
    "    try:\n",
    "        # Read TLE\n",
    "        name = \"sat_data\";\n",
    "            \n",
    "        tle_rec = ephem.readtle(name, tle_line0, tle_line1);\n",
    "        tle_rec.compute(possible_satellite_reentry_date)\n",
    "        \n",
    "        # Calculate the orbit until it reaches the treshold to reenter in the atmosphere - 122 km\n",
    "        reentry_threshold = 122000 # official entry inferface by ESA and Nasa\n",
    "        reentry_threshold = 50000 # limit of space orbit  knudsen number\n",
    "    \n",
    "        if int(tle_rec.elevation) >= reentry_threshold:\n",
    "\n",
    "            d = datetime.datetime.strptime(possible_satellite_reentry_date , '%Y-%m-%d %H:%M:%S')                    \n",
    "\n",
    "            # Check whetere the debries reenters after max two days \n",
    "            for i in range(0,240):\n",
    "                # Define the next hour\n",
    "                parseHour = d + timedelta(hours = i)\n",
    "                tle_rec.compute(parseHour)\n",
    "\n",
    "                if int(tle_rec.elevation) <= reentry_threshold: # threshold of reentry   \n",
    "                    output_file.write(str(tle_line0) + \"\\t\" + str(tle_line1) + \"\\t\" ) \n",
    "                    #output_file.write(str(tle_rec.sublat / degree) + \"\\t\" + str(tle_rec.sublong / degree) +\"\\t\"+str(norad_id)+\"\\t\"+str(sat_dict[norad_id][23:47])+\"\\t\"+str(sat_dict[norad_id][49:54])+\"\\t\"+str(sat_dict[norad_id][56:66])+\"\\t\"+str(sat_dict[norad_id][75:85])+\"\\t\"+str(parseHour)+\"\\t\"+str(sat_dict[norad_id][119:127])+\"\\n\")\n",
    "                    \n",
    "                    next2Minutes = parseHour + timedelta(minutes = 2)\n",
    "                    tle_rec.compute(next2Minutes)\n",
    "                    output_file.write(str(tle_line0) + \"\\t\" + str(tle_line1) + \"\\t\" ) \n",
    "                    output_file.write(str(tle_rec.sublat / degree) + \"\\t\" + str(tle_rec.sublong / degree) +\"\\t\"+str(norad_id)+\"\\t\"+str(sat_dict[norad_id][23:47])+\"\\t\"+str(sat_dict[norad_id][49:54])+\"\\t\"+str(sat_dict[norad_id][56:66])+\"\\t\"+str(sat_dict[norad_id][75:85])+\"\\t\"+str(next2Minutes)+\"\\t\"+str(sat_dict[norad_id][119:127])+\"\\n\")\n",
    "                    \n",
    "                    next6Minutes = parseHour + timedelta(minutes = 6)\n",
    "                    tle_rec.compute(next6Minutes)\n",
    "                    output_file.write(str(tle_line0) + \"\\t\" + str(tle_line1) + \"\\t\" ) \n",
    "                    output_file.write(str(tle_rec.sublat / degree) + \"\\t\" + str(tle_rec.sublong / degree) +\"\\t\"+str(norad_id)+\"\\t\"+str(sat_dict[norad_id][23:47])+\"\\t\"+str(sat_dict[norad_id][49:54])+\"\\t\"+str(sat_dict[norad_id][56:66])+\"\\t\"+str(sat_dict[norad_id][75:85])+\"\\t\"+str(next6Minutes)+\"\\t\"+str(sat_dict[norad_id][119:127])+\"\\n\")\n",
    "                    break\n",
    "\n",
    "        # check for the debris altitude\n",
    "        elif int(tle_rec.elevation) <= reentry_threshold: # threshold of reentry     \n",
    "            #print(\"\\n\" + sat_dict[norad_id][75:85] + \"    \" +  sat_dict[norad_id][23:47])\n",
    "            #print(parseHour, tle_rec.sublat / degree, tle_rec.sublong / degree)\n",
    "            #output_file.write(str(tle_line0) + \"\\t\" + str(tle_line1) + \"\\t\" ) \n",
    "            #output_file.write(str(tle_rec.sublat / degree) + \"\\t\" + str(tle_rec.sublong / degree) +\"\\t\"+str(norad_id)+\"\\t\"+str(sat_dict[norad_id][23:47])+\"\\t\"+str(sat_dict[norad_id][49:54])+\"\\t\"+str(sat_dict[norad_id][56:66])+\"\\t\"+str(sat_dict[norad_id][75:85])+\"\\t\"+str(parseHour)+\"\\t\"+str(sat_dict[norad_id][119:127])+\"\\n\")\n",
    "\n",
    "            next2Minutes = parseHour + timedelta(minutes = 2)\n",
    "            tle_rec.compute(next2Minutes)\n",
    "            output_file.write(str(tle_line0) + \"\\t\" + str(tle_line1) + \"\\t\" ) \n",
    "            output_file.write(str(tle_rec.sublat / degree) + \"\\t\" + str(tle_rec.sublong / degree) +\"\\t\"+str(norad_id)+\"\\t\"+str(sat_dict[norad_id][23:47])+\"\\t\"+str(sat_dict[norad_id][49:54])+\"\\t\"+str(sat_dict[norad_id][56:66])+\"\\t\"+str(sat_dict[norad_id][75:85])+\"\\t\"+str(next2Minutes)+\"\\t\"+str(sat_dict[norad_id][119:127])+\"\\n\")\n",
    "\n",
    "            next6Minutes = parseHour + timedelta(minutes = 6)\n",
    "            tle_rec.compute(next6Minutes)\n",
    "            output_file.write(str(tle_line0) + \"\\t\" + str(tle_line1) + \"\\t\" ) \n",
    "            output_file.write(str(tle_rec.sublat / degree) + \"\\t\" + str(tle_rec.sublong / degree) +\"\\t\"+str(norad_id)+\"\\t\"+str(sat_dict[norad_id][23:47])+\"\\t\"+str(sat_dict[norad_id][49:54])+\"\\t\"+str(sat_dict[norad_id][56:66])+\"\\t\"+str(sat_dict[norad_id][75:85])+\"\\t\"+str(next6Minutes)+\"\\t\"+str(sat_dict[norad_id][119:127])+\"\\n\")\n",
    "            \n",
    "    \n",
    "    except Exception as e:\n",
    "        continue\n",
    "\n",
    "output_file.close\n",
    "\n",
    "print(\"\\nFinished parsing!\")"
   ]
  },
  {
   "cell_type": "code",
   "execution_count": null,
   "metadata": {},
   "outputs": [],
   "source": []
  }
 ],
 "metadata": {
  "kernelspec": {
   "display_name": "Python 3",
   "language": "python",
   "name": "python3"
  },
  "language_info": {
   "codemirror_mode": {
    "name": "ipython",
    "version": 3
   },
   "file_extension": ".py",
   "mimetype": "text/x-python",
   "name": "python",
   "nbconvert_exporter": "python",
   "pygments_lexer": "ipython3",
   "version": "3.11.6"
  }
 },
 "nbformat": 4,
 "nbformat_minor": 4
}
