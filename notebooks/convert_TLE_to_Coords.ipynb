{
 "cells": [
  {
   "cell_type": "markdown",
   "metadata": {},
   "source": [
    "### Create the dataset used for the visualisation\n"
   ]
  },
  {
   "cell_type": "markdown",
   "metadata": {},
   "source": [
    "### Load the Space Catalogue as a dictionary\n"
   ]
  },
  {
   "cell_type": "code",
   "execution_count": 3,
   "metadata": {},
   "outputs": [],
   "source": [
    "import urllib.request\n",
    "satcat = \"https://celestrak.com/pub/satcat.txt\"\n",
    "sat_catalogue = urllib.request.urlopen(satcat).read().decode('utf-8').strip().split(\"\\n\")\n",
    "\n",
    "sat_dict = {}\n",
    "for x in sat_catalogue:\n",
    "    try:\n",
    "        sat_dict[x.split()[1]] = x\n",
    "    except IndexError:\n",
    "        continue"
   ]
  },
  {
   "cell_type": "code",
   "execution_count": 4,
   "metadata": {},
   "outputs": [],
   "source": [
    "import json\n",
    "import csv\n",
    "import datetime\n",
    "from datetime import timedelta\n",
    "import ephem\n",
    "\n",
    "# Open the local TLE data file\n",
    "local_tle_file = \"update_tle.tsv\"\n",
    "output_file = \"output/data.json\"\n",
    "\n",
    "# Read the local TLE data file\n",
    "with open(local_tle_file, \"r\", encoding=\"utf-8\") as file:\n",
    "    reader = csv.reader(file, delimiter='\\t')\n",
    "    sheetValues = list(reader)\n"
   ]
  },
  {
   "cell_type": "markdown",
   "metadata": {},
   "source": [
    "### Save the last coordinates when a satellites reenter the atmosphere"
   ]
  },
  {
   "cell_type": "code",
   "execution_count": 5,
   "metadata": {},
   "outputs": [
    {
     "name": "stdout",
     "output_type": "stream",
     "text": [
      "\n",
      "Finished parsing!\n"
     ]
    }
   ],
   "source": [
    "from sgp4.api import Satrec, jday\n",
    "from datetime import timedelta, datetime\n",
    "import numpy as np\n",
    "\n",
    "data_list = []\n",
    "\n",
    "for i in range(1, len(sheetValues)):\n",
    "    row = sheetValues[i]\n",
    "    tle_line0 = row[0]\n",
    "    tle_line1 = row[1]\n",
    "    norad_id = row[2].replace('n_', '')\n",
    "    possible_satellite_reentry_date = sat_dict[norad_id][75:85] + \" \" + \"00:00:00\"\n",
    "    \n",
    "    try:\n",
    "        # Initialize the satellite object with SGP4\n",
    "        satellite = Satrec.twoline2rv(tle_line0, tle_line1)\n",
    "\n",
    "        # Convert possible reentry date to datetime\n",
    "        d = datetime.strptime(possible_satellite_reentry_date, '%Y-%m-%d %H:%M:%S')\n",
    "\n",
    "        # Set reentry threshold to 120 km (120000 meters)\n",
    "        reentry_threshold = 120  # in km\n",
    "\n",
    "        # Propagate the TLE to find the reentry point\n",
    "        reentered = False\n",
    "        for hour_offset in range(0, 148):  # check up to 148 hours\n",
    "            for minute_offset in range(0, 60, 1):  # check every minute\n",
    "                current_time = d + timedelta(hours=hour_offset, minutes=minute_offset)\n",
    "                jd, fr = jday(current_time.year, current_time.month, current_time.day,\n",
    "                              current_time.hour, current_time.minute, current_time.second)\n",
    "                e, r, v = satellite.sgp4(jd, fr)\n",
    "\n",
    "                if e != 0:  \n",
    "                    continue\n",
    "\n",
    "                altitude = (r[0]**2 + r[1]**2 + r[2]**2)**0.5 - 6378.137  # Earth's radius in km\n",
    "\n",
    "                if altitude <= reentry_threshold:\n",
    "                    reentered = True\n",
    "                    latitude = np.degrees(np.arctan2(r[2], (r[0]**2 + r[1]**2)**0.5))\n",
    "                    longitude = np.degrees(np.arctan2(r[1], r[0]))\n",
    "\n",
    "                    if np.isnan(latitude):\n",
    "                        latitude = 'undefined'\n",
    "                    if np.isnan(longitude):\n",
    "                        longitude = 'undefined'\n",
    "\n",
    "                    data_list.append({\n",
    "                        \"tle_0\": tle_line0,\n",
    "                        \"tle_1\": tle_line1,\n",
    "                        \"lat\": latitude,\n",
    "                        \"lon\": longitude,\n",
    "                        \"norad_cat_num\": norad_id,\n",
    "                        \"satellite_name\": sat_dict[norad_id][23:47].strip(),\n",
    "                        \"ownership\": sat_dict[norad_id][49:54].strip(),\n",
    "                        \"launch_date\": sat_dict[norad_id][56:66].strip(),\n",
    "                        \"satellite_decay\": sat_dict[norad_id][75:85].strip(),\n",
    "                        \"satellite_decay_hour\": str(current_time),\n",
    "                        \"rcs\": sat_dict[norad_id][119:127].strip()\n",
    "                    })\n",
    "\n",
    "                    # Add further tracking points to show the reentry path\n",
    "                    for offset_minutes in [4]: # [2, 6]\n",
    "                        next_time = current_time + timedelta(minutes=offset_minutes)\n",
    "                        jd, fr = jday(next_time.year, next_time.month, next_time.day,\n",
    "                                      next_time.hour, next_time.minute, next_time.second)\n",
    "                        e, r, v = satellite.sgp4(jd, fr)\n",
    "                        if e != 0:  \n",
    "                            continue\n",
    "\n",
    "                        latitude = np.degrees(np.arctan2(r[2], (r[0]**2 + r[1]**2)**0.5))\n",
    "                        longitude = np.degrees(np.arctan2(r[1], r[0]))\n",
    "\n",
    "                        # Replace NaN with 'undefined'\n",
    "                        if np.isnan(latitude):\n",
    "                            latitude = 'undefined'\n",
    "                        if np.isnan(longitude):\n",
    "                            longitude = 'undefined'\n",
    "\n",
    "                        data_list.append({\n",
    "                            \"tle_0\": tle_line0,\n",
    "                            \"tle_1\": tle_line1,\n",
    "                            \"lat\": latitude,\n",
    "                            \"lon\": longitude,\n",
    "                            \"norad_cat_num\": norad_id,\n",
    "                            \"satellite_name\": sat_dict[norad_id][23:47].strip(),\n",
    "                            \"ownership\": sat_dict[norad_id][49:54].strip(),\n",
    "                            \"launch_date\": sat_dict[norad_id][56:66].strip(),\n",
    "                            \"satellite_decay\": sat_dict[norad_id][75:85].strip(),\n",
    "                            \"satellite_decay_hour\": str(next_time),\n",
    "                            \"rcs\": sat_dict[norad_id][119:127].strip()\n",
    "                        })\n",
    "                    break\n",
    "            if reentered:\n",
    "                break\n",
    "\n",
    "    except Exception as e:\n",
    "        print(norad_id, e)\n",
    "        continue\n",
    "\n",
    "print(\"\\nFinished parsing!\")\n",
    "\n",
    "# Write data to minified JSON file\n",
    "with open(output_file, \"w\", encoding=\"utf-8\") as json_file:\n",
    "    json.dump(data_list, json_file, ensure_ascii=False, separators=(',', ':'))"
   ]
  }
 ],
 "metadata": {
  "kernelspec": {
   "display_name": ".venv",
   "language": "python",
   "name": "python3"
  },
  "language_info": {
   "codemirror_mode": {
    "name": "ipython",
    "version": 3
   },
   "file_extension": ".py",
   "mimetype": "text/x-python",
   "name": "python",
   "nbconvert_exporter": "python",
   "pygments_lexer": "ipython3",
   "version": "3.12.3"
  }
 },
 "nbformat": 4,
 "nbformat_minor": 2
}
